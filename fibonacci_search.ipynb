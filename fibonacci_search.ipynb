{
  "nbformat": 4,
  "nbformat_minor": 0,
  "metadata": {
    "colab": {
      "provenance": []
    },
    "kernelspec": {
      "name": "python3",
      "display_name": "Python 3"
    },
    "language_info": {
      "name": "python"
    }
  },
  "cells": [
    {
      "cell_type": "markdown",
      "source": [
        "fibonacci search"
      ],
      "metadata": {
        "id": "u56YObctvVpA"
      }
    },
    {
      "cell_type": "code",
      "execution_count": 3,
      "metadata": {
        "colab": {
          "base_uri": "https://localhost:8080/"
        },
        "id": "Wq-K6kb7vIEA",
        "outputId": "f2c6e890-19e0-48b5-b903-f5c27b5a7b7a"
      },
      "outputs": [
        {
          "output_type": "stream",
          "name": "stdout",
          "text": [
            "Found at index: 11\n"
          ]
        }
      ],
      "source": [
        "# Python3 program for Fibonacci search.\n",
        "from bisect import bisect_left\n",
        "\n",
        "# Returns index of x if present, else\n",
        "# returns -1\n",
        "\n",
        "\n",
        "def fibMonaccianSearch(arr, x, n):\n",
        "\n",
        "\t# Initialize fibonacci numbers\n",
        "\tfibMMm2 = 0 # (m-2)'th Fibonacci No.\n",
        "\tfibMMm1 = 1 # (m-1)'th Fibonacci No.\n",
        "\tfibM = fibMMm2 + fibMMm1 # m'th Fibonacci\n",
        "\n",
        "\t# fibM is going to store the smallest\n",
        "\t# Fibonacci Number greater than or equal to n\n",
        "\twhile (fibM < n):\n",
        "\t\tfibMMm2 = fibMMm1\n",
        "\t\tfibMMm1 = fibM\n",
        "\t\tfibM = fibMMm2 + fibMMm1\n",
        "\n",
        "\t# Marks the eliminated range from front\n",
        "\toffset = -1\n",
        "\n",
        "\t# while there are elements to be inspected.\n",
        "\t# Note that we compare arr[fibMm2] with x.\n",
        "\t# When fibM becomes 1, fibMm2 becomes 0\n",
        "\twhile (fibM > 1):\n",
        "\n",
        "\t\t# Check if fibMm2 is a valid location\n",
        "\t\ti = min(offset+fibMMm2, n-1)\n",
        "\n",
        "\t\t# If x is greater than the value at\n",
        "\t\t# index fibMm2, cut the subarray array\n",
        "\t\t# from offset to i\n",
        "\t\tif (arr[i] < x):\n",
        "\t\t\tfibM = fibMMm1\n",
        "\t\t\tfibMMm1 = fibMMm2\n",
        "\t\t\tfibMMm2 = fibM - fibMMm1\n",
        "\t\t\toffset = i\n",
        "\n",
        "\t\t# If x is less than the value at\n",
        "\t\t# index fibMm2, cut the subarray\n",
        "\t\t# after i+1\n",
        "\t\telif (arr[i] > x):\n",
        "\t\t\tfibM = fibMMm2\n",
        "\t\t\tfibMMm1 = fibMMm1 - fibMMm2\n",
        "\t\t\tfibMMm2 = fibM - fibMMm1\n",
        "\n",
        "\t\t# element found. return index\n",
        "\t\telse:\n",
        "\t\t\treturn i\n",
        "\n",
        "\t# comparing the last element with x */\n",
        "\tif(fibMMm1 and arr[n-1] == x):\n",
        "\t\treturn n-1\n",
        "\n",
        "\t# element not found. return -1\n",
        "\treturn -1\n",
        "\n",
        "\n",
        "# Driver Code\n",
        "arr = [10, 22, 35, 40, 45, 50,\n",
        "\t80, 82, 85, 90, 100,235]\n",
        "n = len(arr)\n",
        "x = 235\n",
        "ind = fibMonaccianSearch(arr, x, n)\n",
        "if ind>=0:\n",
        "  print(\"Found at index:\",ind)\n",
        "else:\n",
        "  print(x,\"isn't present in the array\");\n",
        "\n",
        "# This code is contributed by rishabh_jain\n"
      ]
    }
  ]
}