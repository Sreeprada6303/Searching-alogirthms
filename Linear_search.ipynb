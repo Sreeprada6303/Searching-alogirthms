{
  "nbformat": 4,
  "nbformat_minor": 0,
  "metadata": {
    "colab": {
      "provenance": []
    },
    "kernelspec": {
      "name": "python3",
      "display_name": "Python 3"
    },
    "language_info": {
      "name": "python"
    }
  },
  "cells": [
    {
      "cell_type": "markdown",
      "source": [
        "Linear search"
      ],
      "metadata": {
        "id": "u56YObctvVpA"
      }
    },
    {
      "cell_type": "code",
      "execution_count": null,
      "metadata": {
        "id": "Wq-K6kb7vIEA"
      },
      "outputs": [],
      "source": [
        "\n",
        "def search(arr, N, x):\n",
        "\n",
        "\tfor i in range(0, N):\n",
        "\t\tif (arr[i] == x):\n",
        "\t\t\treturn i\n",
        "\treturn -1\n",
        "\n",
        "\n",
        "# Driver Code\n",
        "if __name__ == \"__main__\":\n",
        "\tarr = [2, 3, 4, 10, 40]\n",
        "\tx = 10\n",
        "\tN = len(arr)\n",
        "\n",
        "\t# Function call\n",
        "\tresult = search(arr, N, x)\n",
        "\tif(result == -1):\n",
        "\t\tprint(\"Element is not present in array\")\n",
        "\telse:\n",
        "\t\tprint(\"Element is present at index\", result)\n"
      ]
    }
  ]
}